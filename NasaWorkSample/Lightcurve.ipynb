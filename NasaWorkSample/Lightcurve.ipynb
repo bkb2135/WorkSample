{
 "cells": [
  {
   "cell_type": "code",
   "execution_count": 1,
   "metadata": {},
   "outputs": [],
   "source": [
    "#The purpose of this script is to fetch the lightcurve data from the TESS mission and save it to be read in by the other scripts."
   ]
  },
  {
   "cell_type": "code",
   "execution_count": 4,
   "metadata": {},
   "outputs": [],
   "source": [
    "# Imports\n",
    "import numpy as np\n",
    "import math \n",
    "import lightkurve as lk\n",
    "import matplotlib.pyplot as plt"
   ]
  },
  {
   "cell_type": "code",
   "execution_count": 6,
   "metadata": {},
   "outputs": [
    {
     "ename": "TypeError",
     "evalue": "'NoneType' object is not subscriptable",
     "output_type": "error",
     "traceback": [
      "\u001b[0;31m---------------------------------------------------------------------------\u001b[0m",
      "\u001b[0;31mTypeError\u001b[0m                                 Traceback (most recent call last)",
      "Cell \u001b[0;32mIn[6], line 6\u001b[0m\n\u001b[1;32m      3\u001b[0m \u001b[39mimport\u001b[39;00m \u001b[39mlightkurve\u001b[39;00m \u001b[39mas\u001b[39;00m \u001b[39mlk\u001b[39;00m\n\u001b[1;32m      5\u001b[0m lcs       \u001b[39m=\u001b[39m lk\u001b[39m.\u001b[39msearch_lightcurve(\u001b[39m\"\u001b[39m\u001b[39mKOI 97.01\u001b[39m\u001b[39m\"\u001b[39m, mission\u001b[39m=\u001b[39m\u001b[39m\"\u001b[39m\u001b[39mKepler\u001b[39m\u001b[39m\"\u001b[39m, cadence\u001b[39m=\u001b[39m\u001b[39m\"\u001b[39m\u001b[39mshort\u001b[39m\u001b[39m\"\u001b[39m)\u001b[39m.\u001b[39mdownload_all()\n\u001b[0;32m----> 6\u001b[0m time0     \u001b[39m=\u001b[39m lcs[\u001b[39m0\u001b[39;49m]\u001b[39m.\u001b[39mtime\u001b[39m.\u001b[39mvalue                    \u001b[39m# get the time of each observation\u001b[39;00m\n\u001b[1;32m      7\u001b[0m flux0     \u001b[39m=\u001b[39m np\u001b[39m.\u001b[39marray(lcs[\u001b[39m0\u001b[39m]\u001b[39m.\u001b[39mflux\u001b[39m.\u001b[39mvalue\u001b[39m.\u001b[39mdata)     \u001b[39m# get the flux\u001b[39;00m\n\u001b[1;32m      8\u001b[0m flux_err0 \u001b[39m=\u001b[39m np\u001b[39m.\u001b[39marray(lcs[\u001b[39m0\u001b[39m]\u001b[39m.\u001b[39mflux_err\u001b[39m.\u001b[39mvalue\u001b[39m.\u001b[39mdata) \u001b[39m# get the error in the flux\u001b[39;00m\n",
      "\u001b[0;31mTypeError\u001b[0m: 'NoneType' object is not subscriptable"
     ]
    }
   ],
   "source": [
    "import math\n",
    "import numpy as np\n",
    "import lightkurve as lk\n",
    "\n",
    "lcs       = lk.search_lightcurve(\"KOI 97.01\", mission=\"Kepler\", cadence=\"short\").download_all()\n",
    "print\n",
    "time0     = lcs[0].time.value                    # get the time of each observation\n",
    "flux0     = np.array(lcs[0].flux.value.data)     # get the flux\n",
    "flux_err0 = np.array(lcs[0].flux_err.value.data) # get the error in the flux"
   ]
  },
  {
   "cell_type": "code",
   "execution_count": 5,
   "metadata": {},
   "outputs": [
    {
     "ename": "TypeError",
     "evalue": "'NoneType' object is not subscriptable",
     "output_type": "error",
     "traceback": [
      "\u001b[0;31m---------------------------------------------------------------------------\u001b[0m",
      "\u001b[0;31mTypeError\u001b[0m                                 Traceback (most recent call last)",
      "Cell \u001b[0;32mIn[5], line 2\u001b[0m\n\u001b[1;32m      1\u001b[0m lcs       \u001b[39m=\u001b[39m lk\u001b[39m.\u001b[39msearch_lightcurve(\u001b[39m\"\u001b[39m\u001b[39mKOI 97.01\u001b[39m\u001b[39m\"\u001b[39m, mission\u001b[39m=\u001b[39m\u001b[39m\"\u001b[39m\u001b[39mKepler\u001b[39m\u001b[39m\"\u001b[39m, cadence\u001b[39m=\u001b[39m\u001b[39m\"\u001b[39m\u001b[39mshort\u001b[39m\u001b[39m\"\u001b[39m)\u001b[39m.\u001b[39mdownload_all()\n\u001b[0;32m----> 2\u001b[0m time0     \u001b[39m=\u001b[39m lcs[\u001b[39m0\u001b[39;49m]\u001b[39m.\u001b[39mtime\u001b[39m.\u001b[39mvalue                    \u001b[39m# get the time of each observation\u001b[39;00m\n\u001b[1;32m      3\u001b[0m flux0     \u001b[39m=\u001b[39m np\u001b[39m.\u001b[39marray(lcs[\u001b[39m0\u001b[39m]\u001b[39m.\u001b[39mflux\u001b[39m.\u001b[39mvalue\u001b[39m.\u001b[39mdata)     \u001b[39m# get the flux\u001b[39;00m\n\u001b[1;32m      4\u001b[0m flux_err0 \u001b[39m=\u001b[39m np\u001b[39m.\u001b[39marray(lcs[\u001b[39m0\u001b[39m]\u001b[39m.\u001b[39mflux_err\u001b[39m.\u001b[39mvalue\u001b[39m.\u001b[39mdata) \u001b[39m# get the error in the flux\u001b[39;00m\n",
      "\u001b[0;31mTypeError\u001b[0m: 'NoneType' object is not subscriptable"
     ]
    }
   ],
   "source": [
    "lcs       = lk.search_lightcurve(\"KOI 97.01\", mission=\"Kepler\", cadence=\"short\").download_all()\n",
    "time0     = lcs[0].time.value                    # get the time of each observation\n",
    "flux0     = np.array(lcs[0].flux.value.data)     # get the flux\n",
    "flux_err0 = np.array(lcs[0].flux_err.value.data) # get the error in the flux\n",
    "\n",
    "# Extract a section of the data\n",
    "index = np.where((time0 > 261) & (time0 < 262))\n",
    "time  = time0    [index]\n",
    "flux  = flux0    [index]\n",
    "error = flux_err0[index]\n",
    "\n",
    "#Write Each array to a file that will be readable with Fortran\n",
    "np.savetxt('time.txt', time)\n",
    "np.savetxt('flux.txt', flux)\n",
    "np.savetxt('error.txt', error)\n",
    "\n"
   ]
  },
  {
   "cell_type": "code",
   "execution_count": 19,
   "metadata": {},
   "outputs": [
    {
     "name": "stdout",
     "output_type": "stream",
     "text": [
      "SearchResult containing 0 data products.\n"
     ]
    }
   ],
   "source": [
    "\n",
    "lcs       = lk.search_lightcurve(\"KOI 97.01\", mission=\"Kepler\")\n",
    "print(lcs)\n"
   ]
  },
  {
   "cell_type": "code",
   "execution_count": 23,
   "metadata": {},
   "outputs": [
    {
     "name": "stdout",
     "output_type": "stream",
     "text": [
      "SearchResult containing 17 data products.\n",
      "\n",
      " #       mission      year author exptime  target_name  distance\n",
      "                                     s                   arcsec \n",
      "--- ----------------- ---- ------ ------- ------------- --------\n",
      "  0 Kepler Quarter 01 2009 Kepler    1800 kplr008692861      0.0\n",
      "  1 Kepler Quarter 02 2009 Kepler    1800 kplr008692861      0.0\n",
      "  2 Kepler Quarter 03 2009 Kepler    1800 kplr008692861      0.0\n",
      "  3 Kepler Quarter 04 2010 Kepler    1800 kplr008692861      0.0\n",
      "  4 Kepler Quarter 05 2010 Kepler    1800 kplr008692861      0.0\n",
      "  5 Kepler Quarter 06 2010 Kepler    1800 kplr008692861      0.0\n",
      "  6 Kepler Quarter 07 2010 Kepler    1800 kplr008692861      0.0\n",
      "  7 Kepler Quarter 08 2011 Kepler    1800 kplr008692861      0.0\n",
      "  8 Kepler Quarter 09 2011 Kepler    1800 kplr008692861      0.0\n",
      "  9 Kepler Quarter 10 2011 Kepler    1800 kplr008692861      0.0\n",
      " 10 Kepler Quarter 11 2012 Kepler    1800 kplr008692861      0.0\n",
      " 11 Kepler Quarter 12 2012 Kepler    1800 kplr008692861      0.0\n",
      " 12 Kepler Quarter 13 2012 Kepler    1800 kplr008692861      0.0\n",
      " 13 Kepler Quarter 14 2012 Kepler    1800 kplr008692861      0.0\n",
      " 14 Kepler Quarter 15 2013 Kepler    1800 kplr008692861      0.0\n",
      " 15 Kepler Quarter 16 2013 Kepler    1800 kplr008692861      0.0\n",
      " 16 Kepler Quarter 17 2013 Kepler    1800 kplr008692861      0.0\n"
     ]
    },
    {
     "name": "stderr",
     "output_type": "stream",
     "text": [
      "/home/kalei/Documents/NasaWorkSample/.venv/lib/python3.10/site-packages/lightkurve/search.py:414: LightkurveWarning: Warning: 17 files available to download. Only the first file has been downloaded. Please use `download_all()` or specify additional criteria (e.g. quarter, campaign, or sector) to limit your search.\n",
      "  warnings.warn(\n"
     ]
    }
   ],
   "source": [
    "# Search for Kepler observations of Kepler-69\n",
    "search_result = lk.search_lightcurve('Kepler-69', author='Kepler', cadence='long')\n",
    "# Download all available Kepler light curves\n",
    "print(search_result)\n",
    "lc_collection = search_result.download_all()\n",
    "lc_collection.plot();"
   ]
  },
  {
   "cell_type": "code",
   "execution_count": 24,
   "metadata": {},
   "outputs": [
    {
     "ename": "AttributeError",
     "evalue": "object has no attribute stitch",
     "output_type": "error",
     "traceback": [
      "\u001b[0;31m---------------------------------------------------------------------------\u001b[0m",
      "\u001b[0;31mAttributeError\u001b[0m                            Traceback (most recent call last)",
      "Cell \u001b[0;32mIn[24], line 2\u001b[0m\n\u001b[1;32m      1\u001b[0m \u001b[39m# Flatten the light curve\u001b[39;00m\n\u001b[0;32m----> 2\u001b[0m lc \u001b[39m=\u001b[39m lc_collection\u001b[39m.\u001b[39;49mstitch()\u001b[39m.\u001b[39mflatten(window_length\u001b[39m=\u001b[39m\u001b[39m901\u001b[39m)\u001b[39m.\u001b[39mremove_outliers()\n\u001b[1;32m      3\u001b[0m lc\u001b[39m.\u001b[39mplot();\n",
      "File \u001b[0;32m~/Documents/NasaWorkSample/.venv/lib/python3.10/site-packages/lightkurve/lightcurve.py:418\u001b[0m, in \u001b[0;36mLightCurve.__getattr__\u001b[0;34m(self, name, **kwargs)\u001b[0m\n\u001b[1;32m    416\u001b[0m     \u001b[39melif\u001b[39;00m name\u001b[39m.\u001b[39mupper() \u001b[39min\u001b[39;00m \u001b[39mself\u001b[39m\u001b[39m.\u001b[39m\u001b[39m__dict__\u001b[39m[\u001b[39m\"\u001b[39m\u001b[39m_meta\u001b[39m\u001b[39m\"\u001b[39m]:\n\u001b[1;32m    417\u001b[0m         \u001b[39mreturn\u001b[39;00m \u001b[39mself\u001b[39m\u001b[39m.\u001b[39m\u001b[39m__dict__\u001b[39m[\u001b[39m\"\u001b[39m\u001b[39m_meta\u001b[39m\u001b[39m\"\u001b[39m][name\u001b[39m.\u001b[39mupper()]\n\u001b[0;32m--> 418\u001b[0m \u001b[39mraise\u001b[39;00m \u001b[39mAttributeError\u001b[39;00m(\u001b[39mf\u001b[39m\u001b[39m\"\u001b[39m\u001b[39mobject has no attribute \u001b[39m\u001b[39m{\u001b[39;00mname\u001b[39m}\u001b[39;00m\u001b[39m\"\u001b[39m)\n",
      "\u001b[0;31mAttributeError\u001b[0m: object has no attribute stitch"
     ]
    }
   ],
   "source": [
    "# Flatten the light curve\n",
    "lc = lc_collection.stitch().flatten(window_length=901).remove_outliers()\n",
    "lc.plot();"
   ]
  },
  {
   "cell_type": "code",
   "execution_count": null,
   "metadata": {},
   "outputs": [],
   "source": []
  }
 ],
 "metadata": {
  "kernelspec": {
   "display_name": ".venv",
   "language": "python",
   "name": "python3"
  },
  "language_info": {
   "codemirror_mode": {
    "name": "ipython",
    "version": 3
   },
   "file_extension": ".py",
   "mimetype": "text/x-python",
   "name": "python",
   "nbconvert_exporter": "python",
   "pygments_lexer": "ipython3",
   "version": "3.10.6"
  },
  "orig_nbformat": 4
 },
 "nbformat": 4,
 "nbformat_minor": 2
}
